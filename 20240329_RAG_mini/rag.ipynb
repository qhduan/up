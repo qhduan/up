{
 "cells": [
  {
   "cell_type": "code",
   "execution_count": 1,
   "id": "a7455834-f7cf-4c0c-9898-9c2cd61c94af",
   "metadata": {},
   "outputs": [],
   "source": [
    "# !pip install requests tqdm openai"
   ]
  },
  {
   "cell_type": "code",
   "execution_count": null,
   "id": "537dfa9d-c1ab-4ae6-8136-36723345bf98",
   "metadata": {},
   "outputs": [],
   "source": []
  },
  {
   "cell_type": "code",
   "execution_count": 2,
   "id": "046cdc17-f275-4cb1-aeae-02340cb2392d",
   "metadata": {},
   "outputs": [
    {
     "name": "stderr",
     "output_type": "stream",
     "text": [
      "/Users/qhduan/Library/Python/3.9/lib/python/site-packages/urllib3/__init__.py:34: NotOpenSSLWarning: urllib3 v2 only supports OpenSSL 1.1.1+, currently the 'ssl' module is compiled with 'LibreSSL 2.8.3'. See: https://github.com/urllib3/urllib3/issues/3020\n",
      "  warnings.warn(\n"
     ]
    }
   ],
   "source": [
    "import requests"
   ]
  },
  {
   "cell_type": "code",
   "execution_count": 3,
   "id": "d7624be8-5885-4cb8-b401-d928606e0b67",
   "metadata": {},
   "outputs": [
    {
     "name": "stdout",
     "output_type": "stream",
     "text": [
      "李白是唐朝著名的诗人，他的诗歌数量众多，现存诗作据《全唐诗》收录有930多首，但也有学者认为可能超过1000首。他的诗歌以其豪放洒脱的风格和丰富的想象力著称，对后世影响深远。\n"
     ]
    }
   ],
   "source": [
    "prompt = \"\"\"<|im_start|>system\n",
    "你是一个乐于助人的AI助理<|im_end|>\n",
    "<|im_start|>user\n",
    "李白写过多少诗<|im_end|>\n",
    "<|im_start|>assistant\n",
    "\"\"\"\n",
    "resp = requests.post('http://127.0.0.1:8080/completion', json={\n",
    "    \"prompt\": prompt,\n",
    "    \"n_predict\": 512,\n",
    "    \"temperature\": 0.0,\n",
    "})\n",
    "print(resp.json()['content'])"
   ]
  },
  {
   "cell_type": "code",
   "execution_count": null,
   "id": "18da8218-fe88-49ae-b041-c799ce330da2",
   "metadata": {},
   "outputs": [],
   "source": []
  },
  {
   "cell_type": "code",
   "execution_count": 4,
   "id": "81889251-45d9-47eb-ae7e-cb4776c4df22",
   "metadata": {},
   "outputs": [],
   "source": [
    "import openai"
   ]
  },
  {
   "cell_type": "code",
   "execution_count": 5,
   "id": "253524e6-132e-4c06-a7f8-bead3155e5e2",
   "metadata": {},
   "outputs": [],
   "source": [
    "client = openai.OpenAI(\n",
    "    base_url=\"http://localhost:8080/v1\",\n",
    "    api_key = \"sk-no-key-required-xxx\"\n",
    ")\n",
    "\n",
    "completion = client.chat.completions.create(\n",
    "    model=\"gpt-3.5-turbo-ai匠\",\n",
    "    messages=[\n",
    "        {\"role\": \"system\", \"content\": \"你是一个乐于助人的AI助理\"},\n",
    "        {\"role\": \"user\", \"content\": \"李白写过多少诗\"}\n",
    "    ],\n",
    "    temperature=0\n",
    ")"
   ]
  },
  {
   "cell_type": "code",
   "execution_count": 6,
   "id": "29e812a2-b3f4-4cb2-b18e-4a3e93db5125",
   "metadata": {},
   "outputs": [
    {
     "name": "stdout",
     "output_type": "stream",
     "text": [
      "李白是唐朝著名的诗人，他的诗歌数量众多，现存诗作据《全唐诗》收录有930多首，但也有学者认为可能超过1000首。他的诗歌以其豪放洒脱的风格和丰富的想象力著称，对后世影响深远。\n"
     ]
    }
   ],
   "source": [
    "print(completion.choices[0].message.content)"
   ]
  },
  {
   "cell_type": "code",
   "execution_count": null,
   "id": "3ffbc2be-60f9-451c-9062-de5af3841fa0",
   "metadata": {},
   "outputs": [],
   "source": []
  },
  {
   "cell_type": "code",
   "execution_count": 10,
   "id": "c52ef54e-4c8a-4507-9916-9536b7d56c14",
   "metadata": {},
   "outputs": [
    {
     "name": "stdout",
     "output_type": "stream",
     "text": [
      "李白是唐朝著名的诗人，他的诗歌数量众多，现存诗作据《全唐诗》收录有930多首，但也有学者认为可能超过1000首。他的诗歌以其豪放洒脱的风格和丰富的想象力著称，对后世影响深远。\n"
     ]
    }
   ],
   "source": [
    "client = openai.OpenAI(\n",
    "    base_url=\"http://localhost:8080/v1\",\n",
    "    api_key = \"sk-no-key-required\"\n",
    ")\n",
    "\n",
    "for x in client.chat.completions.create(\n",
    "    model=\"gpt-3.5-turbo\",\n",
    "    messages=[\n",
    "        {\"role\": \"system\", \"content\": \"你是一个乐于助人的AI助理\"},\n",
    "        {\"role\": \"user\", \"content\": \"李白写过多少诗\"}\n",
    "    ],\n",
    "    stream=True,\n",
    "    temperature=0\n",
    "):\n",
    "    if x.choices[0].delta.content is not None:\n",
    "        print(x.choices[0].delta.content, end='')\n",
    "print('')"
   ]
  },
  {
   "cell_type": "code",
   "execution_count": null,
   "id": "ce28956d-5c50-4d8a-b882-61e15ebcf850",
   "metadata": {},
   "outputs": [],
   "source": []
  },
  {
   "cell_type": "code",
   "execution_count": 12,
   "id": "511e0c7c-7d35-483c-bed2-acdc1aef8891",
   "metadata": {},
   "outputs": [],
   "source": [
    "def 生成(prompt):\n",
    "    resp = requests.post('http://127.0.0.1:8080/completion', json={\n",
    "        \"prompt\": prompt,\n",
    "        \"n_predict\": 512,\n",
    "        \"temperature\": 0.0,\n",
    "    })\n",
    "    print(resp.json()['content'])"
   ]
  },
  {
   "cell_type": "code",
   "execution_count": 15,
   "id": "d7c52bf1-9853-4565-a038-d7b8d71fa6ca",
   "metadata": {},
   "outputs": [],
   "source": [
    "提示词 = \"\"\"<|im_start|>system\n",
    "你是一个乐于助人的AI助理<|im_end|>\n",
    "<|im_start|>user\n",
    "李白写过多少诗<|im_end|>\n",
    "<|im_start|>assistant\n",
    "\"\"\""
   ]
  },
  {
   "cell_type": "code",
   "execution_count": 16,
   "id": "c47bf460-6da6-4d81-9fd5-72b4cd638325",
   "metadata": {},
   "outputs": [
    {
     "name": "stdout",
     "output_type": "stream",
     "text": [
      "李白是唐朝著名的诗人，他的诗歌数量众多，现存诗作据《全唐诗》收录有930多首，但也有学者认为可能超过1000首。他的诗歌以其豪放洒脱的风格和丰富的想象力著称，对后世影响深远。\n"
     ]
    }
   ],
   "source": [
    "生成(提示词)"
   ]
  },
  {
   "cell_type": "code",
   "execution_count": null,
   "id": "4184047b-3c63-4d96-af99-8a90de45c917",
   "metadata": {},
   "outputs": [],
   "source": []
  },
  {
   "cell_type": "code",
   "execution_count": null,
   "id": "a5571e59-3e50-42f9-b4ac-d4433c6d393f",
   "metadata": {},
   "outputs": [],
   "source": []
  },
  {
   "cell_type": "code",
   "execution_count": 17,
   "id": "4cdd4c46-a892-4b6d-b15f-676ed4b61fa9",
   "metadata": {},
   "outputs": [],
   "source": [
    "from typing import List"
   ]
  },
  {
   "cell_type": "code",
   "execution_count": 18,
   "id": "6cd0e33c-2333-4a71-8691-7af157701565",
   "metadata": {},
   "outputs": [],
   "source": [
    "import json\n",
    "from tqdm import tqdm"
   ]
  },
  {
   "cell_type": "code",
   "execution_count": 19,
   "id": "efbb5b91-556c-41df-82f1-41439e64f453",
   "metadata": {},
   "outputs": [],
   "source": [
    "一堆文档: List[str] = json.load(open('./documents.json'))"
   ]
  },
  {
   "cell_type": "code",
   "execution_count": 21,
   "id": "dd165f90-236f-45f0-af3a-c916fb5b3583",
   "metadata": {},
   "outputs": [
    {
     "name": "stdout",
     "output_type": "stream",
     "text": [
      "股票代码：600028\n",
      "股票名称：中国石化\n",
      "主营业务：石油及天然气和化工业务。\n",
      "产品类型：原油、汽油、柴油、化工基础原料、煤油、合成树脂、天然气、合成纤维单体、合成纤维聚合物\n",
      "产品名称：原油、汽油、柴油、化工基础原料、煤油、合成树脂、天然气、合成纤维单体、合成纤维聚合物\n",
      "\n",
      "股票代码：600030\n",
      "股票名称：中信证券\n",
      "主营业务：投资银行、财富管理、资产管理、金融市场等相关金融服务。\n",
      "产品类型：经纪业务、资产管理、证券投资、证券承销\n",
      "产品名称：经纪业务、资产管理、证券投资、证券承销\n",
      "\n",
      "股票代码：600031\n",
      "股票名称：三一重工\n",
      "主营业务：工程机械装备的研发、制造、销售和服务。\n",
      "产品类型：工程机械\n",
      "产品名称：混凝土机械、挖掘机械、起重机械、桩工机械、路面机械\n",
      "\n"
     ]
    }
   ],
   "source": [
    "for x in 一堆文档[:3]:\n",
    "    print(x)"
   ]
  },
  {
   "cell_type": "code",
   "execution_count": 22,
   "id": "06154d94-7884-47b6-afa7-5880ed05379a",
   "metadata": {},
   "outputs": [
    {
     "data": {
      "text/plain": [
       "50"
      ]
     },
     "execution_count": 22,
     "metadata": {},
     "output_type": "execute_result"
    }
   ],
   "source": [
    "len(一堆文档)"
   ]
  },
  {
   "cell_type": "code",
   "execution_count": null,
   "id": "e75f90a6-d54d-421f-9796-96c1d5f86532",
   "metadata": {},
   "outputs": [],
   "source": []
  },
  {
   "cell_type": "code",
   "execution_count": 24,
   "id": "fd66146e-541d-4ce6-b377-6d8bbeb07af6",
   "metadata": {},
   "outputs": [],
   "source": [
    "def 随机对比(查询, 文档):\n",
    "    import random\n",
    "    return random.random()\n",
    "\n",
    "\n",
    "def 随机从文档中查询(用户问题, 文档集):\n",
    "    最大相似度 = 0\n",
    "    最好的文档 = None\n",
    "    for 文档 in 文档集:\n",
    "        相似度 = 随机对比(用户问题, 文档)\n",
    "        if 相似度 > 最大相似度:\n",
    "            最大相似度 = 相似度\n",
    "            最好的文档 = 文档\n",
    "    return 最好的文档"
   ]
  },
  {
   "cell_type": "code",
   "execution_count": 25,
   "id": "1995708d-fc5c-4cb4-9336-62b81f5d32a5",
   "metadata": {},
   "outputs": [],
   "source": [
    "用户的查询 = '中信证券的业务是啥'"
   ]
  },
  {
   "cell_type": "code",
   "execution_count": 31,
   "id": "701f95df-6473-4f12-9528-fd0c407e0bd5",
   "metadata": {},
   "outputs": [
    {
     "data": {
      "text/plain": [
       "'股票代码：601166\\n股票名称：兴业银行\\n主营业务：从事商业银行业务。\\n产品类型：企业金融业务、零售银行业务、金融市场业务\\n产品名称：企业金融业务、零售银行业务、金融市场业务\\n'"
      ]
     },
     "execution_count": 31,
     "metadata": {},
     "output_type": "execute_result"
    }
   ],
   "source": [
    "随机从文档中查询(用户的查询, 一堆文档)"
   ]
  },
  {
   "cell_type": "code",
   "execution_count": null,
   "id": "c7a3c9e6-eee3-4b51-be92-e2229f264bb7",
   "metadata": {},
   "outputs": [],
   "source": []
  },
  {
   "cell_type": "code",
   "execution_count": 32,
   "id": "293dcb5d-a5d4-4129-a581-5cbd03dcb103",
   "metadata": {},
   "outputs": [],
   "source": [
    "查询 = 'abc'"
   ]
  },
  {
   "cell_type": "code",
   "execution_count": 33,
   "id": "16dc0253-c289-4f67-9fa6-f226db98b6a5",
   "metadata": {},
   "outputs": [],
   "source": [
    "候选 = [\n",
    "    'bcd',\n",
    "    'efg'\n",
    "]"
   ]
  },
  {
   "cell_type": "code",
   "execution_count": 34,
   "id": "926e3c45-bbff-4d5b-9a3b-51afb00e34d1",
   "metadata": {},
   "outputs": [],
   "source": [
    "# 交集多！！！"
   ]
  },
  {
   "cell_type": "code",
   "execution_count": null,
   "id": "c6295ec1-4370-48c3-8b20-4967ba406db2",
   "metadata": {},
   "outputs": [],
   "source": []
  },
  {
   "cell_type": "code",
   "execution_count": 35,
   "id": "45ce7278-4d05-471f-8671-457c8e51a25c",
   "metadata": {},
   "outputs": [
    {
     "data": {
      "text/plain": [
       "{'b', 'c'}"
      ]
     },
     "execution_count": 35,
     "metadata": {},
     "output_type": "execute_result"
    }
   ],
   "source": [
    "set(['a', 'b', 'c']) & set(['b', 'c', 'd'])"
   ]
  },
  {
   "cell_type": "code",
   "execution_count": 36,
   "id": "e72a63c2-bf61-413b-b9cb-ec773b00f598",
   "metadata": {},
   "outputs": [
    {
     "data": {
      "text/plain": [
       "set()"
      ]
     },
     "execution_count": 36,
     "metadata": {},
     "output_type": "execute_result"
    }
   ],
   "source": [
    "set(['a', 'b', 'c']) & set(['e', 'f', 'g'])"
   ]
  },
  {
   "cell_type": "code",
   "execution_count": null,
   "id": "5c6632e5-7de0-48c5-a3bd-23db706f2fce",
   "metadata": {},
   "outputs": [],
   "source": []
  },
  {
   "cell_type": "code",
   "execution_count": 37,
   "id": "61ad75d9-9339-4f9b-917c-a6f4d87e5086",
   "metadata": {},
   "outputs": [
    {
     "data": {
      "text/plain": [
       "0.6666666666666666"
      ]
     },
     "execution_count": 37,
     "metadata": {},
     "output_type": "execute_result"
    }
   ],
   "source": [
    "len(set(['a', 'b', 'c']) & set(['b', 'c', 'd'])) / len(['a', 'b', 'c'])"
   ]
  },
  {
   "cell_type": "code",
   "execution_count": 38,
   "id": "64a440a0-8e3b-4d8c-b7b1-6799648b43e9",
   "metadata": {},
   "outputs": [
    {
     "data": {
      "text/plain": [
       "0.0"
      ]
     },
     "execution_count": 38,
     "metadata": {},
     "output_type": "execute_result"
    }
   ],
   "source": [
    "len(set(['a', 'b', 'c']) & set(['e', 'f', 'g'])) / len(['a', 'b', 'c'])"
   ]
  },
  {
   "cell_type": "code",
   "execution_count": 39,
   "id": "1a011df0-df02-4ac5-a11b-caee99c3ab17",
   "metadata": {},
   "outputs": [],
   "source": [
    "# Jaccard distance"
   ]
  },
  {
   "cell_type": "code",
   "execution_count": 42,
   "id": "ab9c4a9e-87a9-4184-ae62-90efbea601e0",
   "metadata": {},
   "outputs": [
    {
     "data": {
      "text/plain": [
       "['中', '信', '证', '券', '的', '业', '务', '是', '啥']"
      ]
     },
     "execution_count": 42,
     "metadata": {},
     "output_type": "execute_result"
    }
   ],
   "source": [
    "list(用户的查询)"
   ]
  },
  {
   "cell_type": "code",
   "execution_count": 40,
   "id": "fd69197a-1f70-4569-821d-4fe1469b20a9",
   "metadata": {},
   "outputs": [
    {
     "data": {
      "text/plain": [
       "['中信', '信证', '证券', '券的', '的业', '业务', '务是', '是啥']"
      ]
     },
     "execution_count": 40,
     "metadata": {},
     "output_type": "execute_result"
    }
   ],
   "source": [
    "def 生成字符串的2gram(input_string):\n",
    "    input_string = input_string.lower()  # 将输入字符串转换为小写\n",
    "    input_string = input_string.replace(' ', '')  # 去除空格\n",
    "    n = 2  # 2-gram\n",
    "    two_grams = [input_string[i:i+n] for i in range(len(input_string)-1)]\n",
    "    return two_grams\n",
    "\n",
    "生成字符串的2gram(用户的查询)"
   ]
  },
  {
   "cell_type": "code",
   "execution_count": null,
   "id": "8ead8028-2b00-4c48-9bd0-5a43b231a87c",
   "metadata": {},
   "outputs": [],
   "source": []
  },
  {
   "cell_type": "code",
   "execution_count": 43,
   "id": "8e8babde-6518-48d7-8821-bbc860239cb3",
   "metadata": {},
   "outputs": [],
   "source": [
    "def 对比(查询, 文档):\n",
    "    return len(\n",
    "        set(生成字符串的2gram(查询)) & set(生成字符串的2gram(文档))\n",
    "    ) / len(查询)\n",
    "\n",
    "\n",
    "def 从文档中查询(用户问题, 文档集):\n",
    "    最大相似度 = 0\n",
    "    最好的文档 = None\n",
    "    for 文档 in 文档集:\n",
    "        相似度 = 对比(用户问题, 文档)\n",
    "        if 相似度 > 最大相似度:\n",
    "            最大相似度 = 相似度\n",
    "            最好的文档 = 文档\n",
    "    return 最好的文档"
   ]
  },
  {
   "cell_type": "code",
   "execution_count": 45,
   "id": "2e8432c4-62e3-4d25-bd1c-89082f0c5061",
   "metadata": {},
   "outputs": [
    {
     "data": {
      "text/plain": [
       "'股票代码：600030\\n股票名称：中信证券\\n主营业务：投资银行、财富管理、资产管理、金融市场等相关金融服务。\\n产品类型：经纪业务、资产管理、证券投资、证券承销\\n产品名称：经纪业务、资产管理、证券投资、证券承销\\n'"
      ]
     },
     "execution_count": 45,
     "metadata": {},
     "output_type": "execute_result"
    }
   ],
   "source": [
    "用户的查询 = '中信证券的业务是啥'\n",
    "从文档中查询(用户的查询, 一堆文档)"
   ]
  },
  {
   "cell_type": "code",
   "execution_count": null,
   "id": "00f67f26-b8ef-4ebc-b7b5-d536ca064ce6",
   "metadata": {},
   "outputs": [],
   "source": []
  },
  {
   "cell_type": "code",
   "execution_count": null,
   "id": "4a9cef50-6094-4685-bc83-c958258bfaf3",
   "metadata": {},
   "outputs": [],
   "source": []
  },
  {
   "cell_type": "code",
   "execution_count": 47,
   "id": "1c16f0a5-a9d5-4a4b-94cb-2cf382bfaee2",
   "metadata": {},
   "outputs": [],
   "source": [
    "提示词模板 = \"\"\"<|im_start|>system\n",
    "你是一个智能AI<|im_end|>\n",
    "<|im_start|>user\n",
    "{用户问题}<|im_end|>\n",
    "<|im_start|>assistant\n",
    "\"\"\""
   ]
  },
  {
   "cell_type": "code",
   "execution_count": 48,
   "id": "bbb472c0-abaa-441f-b46b-db1cfb23c052",
   "metadata": {},
   "outputs": [
    {
     "data": {
      "text/plain": [
       "'中信证券的业务是啥'"
      ]
     },
     "execution_count": 48,
     "metadata": {},
     "output_type": "execute_result"
    }
   ],
   "source": [
    "用户的查询"
   ]
  },
  {
   "cell_type": "code",
   "execution_count": 49,
   "id": "a24b606f-87f2-4ac4-b4d1-8556deb9f32e",
   "metadata": {},
   "outputs": [],
   "source": [
    "提示词 = 提示词模板.format(用户问题=用户的查询)"
   ]
  },
  {
   "cell_type": "code",
   "execution_count": null,
   "id": "0cb7f54e-04f4-4079-bdd2-aa87d1ae44ea",
   "metadata": {},
   "outputs": [],
   "source": []
  },
  {
   "cell_type": "code",
   "execution_count": 51,
   "id": "c5c90ba6-9461-4093-9e2f-06338cc63e5d",
   "metadata": {},
   "outputs": [
    {
     "name": "stdout",
     "output_type": "stream",
     "text": [
      "中信证券是一家中国领先的综合性投资银行和证券公司，其业务涵盖证券经纪、投资银行、资产管理、研究咨询、基金销售、期货、期权、证券衍生品等多个领域。具体业务包括：\n",
      "\n",
      "1. 证券经纪业务：为个人和机构客户提供股票、债券、基金、期货、期权等交易服务。\n",
      "2. 投资银行业务：包括股票承销、债券承销、并购重组、企业融资等。\n",
      "3. 资产管理业务：提供公募基金、私募基金、资产管理计划等投资产品。\n",
      "4. 研究咨询：为客户提供行业研究、市场分析和投资策略建议。\n",
      "5. 金融市场业务：包括自营交易、做市业务、风险管理等。\n",
      "6. 投资咨询和财富管理：为客户提供全方位的财富管理服务。\n",
      "\n",
      "中信证券致力于为客户提供全方位的金融服务，帮助客户实现资产增值和财务目标。\n"
     ]
    }
   ],
   "source": [
    "生成(提示词)"
   ]
  },
  {
   "cell_type": "code",
   "execution_count": null,
   "id": "a167ca6a-bb55-4186-872e-fe5ba2fb0471",
   "metadata": {},
   "outputs": [],
   "source": []
  },
  {
   "cell_type": "code",
   "execution_count": null,
   "id": "701e7b2e-d46a-484a-82a8-90fbd4a8370d",
   "metadata": {},
   "outputs": [],
   "source": []
  },
  {
   "cell_type": "code",
   "execution_count": 58,
   "id": "42ab00da-2f07-4b4a-8bd1-c992876fe1a8",
   "metadata": {},
   "outputs": [],
   "source": [
    "有RAG的提示词模板 = \"\"\"<|im_start|>system\n",
    "你是一个智能AI<|im_end|>\n",
    "<|im_start|>user\n",
    "根据下面的文档回答问题：\n",
    "{上下文}\n",
    "问题：{用户问题}<|im_end|>\n",
    "<|im_start|>assistant\n",
    "\"\"\""
   ]
  },
  {
   "cell_type": "code",
   "execution_count": 59,
   "id": "712aeec1-fad9-49f1-9458-2e241af84ab8",
   "metadata": {},
   "outputs": [],
   "source": [
    "提示词 = 有RAG的提示词模板.format(\n",
    "    上下文=从文档中查询(用户的查询, 一堆文档),\n",
    "    用户问题=用户的查询\n",
    ")"
   ]
  },
  {
   "cell_type": "code",
   "execution_count": 60,
   "id": "d0f11235-82be-4633-93b4-68dfe45fb2d9",
   "metadata": {},
   "outputs": [
    {
     "data": {
      "text/plain": [
       "'中信证券的业务是啥'"
      ]
     },
     "execution_count": 60,
     "metadata": {},
     "output_type": "execute_result"
    }
   ],
   "source": [
    "用户的查询"
   ]
  },
  {
   "cell_type": "code",
   "execution_count": 61,
   "id": "d8dac7cf-30b6-42dd-9aec-a8867678514f",
   "metadata": {},
   "outputs": [
    {
     "name": "stdout",
     "output_type": "stream",
     "text": [
      "<|im_start|>system\n",
      "你是一个智能AI<|im_end|>\n",
      "<|im_start|>user\n",
      "根据下面的文档回答问题：\n",
      "股票代码：600030\n",
      "股票名称：中信证券\n",
      "主营业务：投资银行、财富管理、资产管理、金融市场等相关金融服务。\n",
      "产品类型：经纪业务、资产管理、证券投资、证券承销\n",
      "产品名称：经纪业务、资产管理、证券投资、证券承销\n",
      "\n",
      "问题：中信证券的业务是啥<|im_end|>\n",
      "<|im_start|>assistant\n",
      "\n"
     ]
    }
   ],
   "source": [
    "print(提示词)"
   ]
  },
  {
   "cell_type": "code",
   "execution_count": null,
   "id": "7791ab9d-ec20-4ced-91ad-c210e7761108",
   "metadata": {},
   "outputs": [],
   "source": [
    "生成(提示词)"
   ]
  },
  {
   "cell_type": "code",
   "execution_count": null,
   "id": "044f172d-53f2-41df-bc55-bf049b294e55",
   "metadata": {},
   "outputs": [],
   "source": []
  },
  {
   "cell_type": "code",
   "execution_count": null,
   "id": "c3f6bef5-9acc-4b45-9e41-b9c519a1db8e",
   "metadata": {},
   "outputs": [],
   "source": []
  },
  {
   "cell_type": "code",
   "execution_count": null,
   "id": "8c621b4e-7971-49be-a3ac-5e3fce4da02c",
   "metadata": {},
   "outputs": [],
   "source": []
  }
 ],
 "metadata": {
  "kernelspec": {
   "display_name": "Python 3 (ipykernel)",
   "language": "python",
   "name": "python3"
  },
  "language_info": {
   "codemirror_mode": {
    "name": "ipython",
    "version": 3
   },
   "file_extension": ".py",
   "mimetype": "text/x-python",
   "name": "python",
   "nbconvert_exporter": "python",
   "pygments_lexer": "ipython3",
   "version": "3.9.6"
  }
 },
 "nbformat": 4,
 "nbformat_minor": 5
}
