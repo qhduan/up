{
 "cells": [
  {
   "cell_type": "code",
   "execution_count": 11,
   "id": "59b06180-f997-4441-b202-118b647ea584",
   "metadata": {},
   "outputs": [],
   "source": [
    "# !pip install akshare tqdm"
   ]
  },
  {
   "cell_type": "code",
   "execution_count": 10,
   "id": "65780eae-aeac-4851-907d-a4a908bc4e85",
   "metadata": {},
   "outputs": [],
   "source": [
    "import json\n",
    "import akshare as ak\n",
    "from tqdm import tqdm"
   ]
  },
  {
   "cell_type": "code",
   "execution_count": 3,
   "id": "62498f27-723f-4382-b3e7-7e687370d1ab",
   "metadata": {},
   "outputs": [],
   "source": [
    "index_stock_cons_weight_csindex_df = ak.index_stock_cons_weight_csindex(symbol=\"000016\")"
   ]
  },
  {
   "cell_type": "code",
   "execution_count": 4,
   "id": "b80b660b-abc3-41cd-a673-3e3c60d664f8",
   "metadata": {},
   "outputs": [
    {
     "data": {
      "text/html": [
       "<div>\n",
       "<style scoped>\n",
       "    .dataframe tbody tr th:only-of-type {\n",
       "        vertical-align: middle;\n",
       "    }\n",
       "\n",
       "    .dataframe tbody tr th {\n",
       "        vertical-align: top;\n",
       "    }\n",
       "\n",
       "    .dataframe thead th {\n",
       "        text-align: right;\n",
       "    }\n",
       "</style>\n",
       "<table border=\"1\" class=\"dataframe\">\n",
       "  <thead>\n",
       "    <tr style=\"text-align: right;\">\n",
       "      <th></th>\n",
       "      <th>日期</th>\n",
       "      <th>指数代码</th>\n",
       "      <th>指数名称</th>\n",
       "      <th>指数英文名称</th>\n",
       "      <th>成分券代码</th>\n",
       "      <th>成分券名称</th>\n",
       "      <th>成分券英文名称</th>\n",
       "      <th>交易所</th>\n",
       "      <th>交易所英文名称</th>\n",
       "      <th>权重</th>\n",
       "    </tr>\n",
       "  </thead>\n",
       "  <tbody>\n",
       "    <tr>\n",
       "      <th>0</th>\n",
       "      <td>2024-02-29</td>\n",
       "      <td>000016</td>\n",
       "      <td>上证50</td>\n",
       "      <td>SSE 50</td>\n",
       "      <td>600028</td>\n",
       "      <td>中国石化</td>\n",
       "      <td>China Petroleum &amp; Chemical Corporation</td>\n",
       "      <td>上海证券交易所</td>\n",
       "      <td>Shanghai Stock Exchange</td>\n",
       "      <td>1.790</td>\n",
       "    </tr>\n",
       "    <tr>\n",
       "      <th>1</th>\n",
       "      <td>2024-02-29</td>\n",
       "      <td>000016</td>\n",
       "      <td>上证50</td>\n",
       "      <td>SSE 50</td>\n",
       "      <td>600030</td>\n",
       "      <td>中信证券</td>\n",
       "      <td>CITIC Securities Co Ltd</td>\n",
       "      <td>上海证券交易所</td>\n",
       "      <td>Shanghai Stock Exchange</td>\n",
       "      <td>3.130</td>\n",
       "    </tr>\n",
       "    <tr>\n",
       "      <th>2</th>\n",
       "      <td>2024-02-29</td>\n",
       "      <td>000016</td>\n",
       "      <td>上证50</td>\n",
       "      <td>SSE 50</td>\n",
       "      <td>600031</td>\n",
       "      <td>三一重工</td>\n",
       "      <td>Sany Heavy Industry Co Ltd</td>\n",
       "      <td>上海证券交易所</td>\n",
       "      <td>Shanghai Stock Exchange</td>\n",
       "      <td>1.247</td>\n",
       "    </tr>\n",
       "    <tr>\n",
       "      <th>3</th>\n",
       "      <td>2024-02-29</td>\n",
       "      <td>000016</td>\n",
       "      <td>上证50</td>\n",
       "      <td>SSE 50</td>\n",
       "      <td>600036</td>\n",
       "      <td>招商银行</td>\n",
       "      <td>China Merchants Bank Co Ltd</td>\n",
       "      <td>上海证券交易所</td>\n",
       "      <td>Shanghai Stock Exchange</td>\n",
       "      <td>5.970</td>\n",
       "    </tr>\n",
       "    <tr>\n",
       "      <th>4</th>\n",
       "      <td>2024-02-29</td>\n",
       "      <td>000016</td>\n",
       "      <td>上证50</td>\n",
       "      <td>SSE 50</td>\n",
       "      <td>600048</td>\n",
       "      <td>保利发展</td>\n",
       "      <td>Poly Developments and Holdings Group Co., Ltd.</td>\n",
       "      <td>上海证券交易所</td>\n",
       "      <td>Shanghai Stock Exchange</td>\n",
       "      <td>1.056</td>\n",
       "    </tr>\n",
       "  </tbody>\n",
       "</table>\n",
       "</div>"
      ],
      "text/plain": [
       "           日期    指数代码  指数名称  指数英文名称   成分券代码 成分券名称  \\\n",
       "0  2024-02-29  000016  上证50  SSE 50  600028  中国石化   \n",
       "1  2024-02-29  000016  上证50  SSE 50  600030  中信证券   \n",
       "2  2024-02-29  000016  上证50  SSE 50  600031  三一重工   \n",
       "3  2024-02-29  000016  上证50  SSE 50  600036  招商银行   \n",
       "4  2024-02-29  000016  上证50  SSE 50  600048  保利发展   \n",
       "\n",
       "                                          成分券英文名称      交易所  \\\n",
       "0          China Petroleum & Chemical Corporation  上海证券交易所   \n",
       "1                         CITIC Securities Co Ltd  上海证券交易所   \n",
       "2                      Sany Heavy Industry Co Ltd  上海证券交易所   \n",
       "3                     China Merchants Bank Co Ltd  上海证券交易所   \n",
       "4  Poly Developments and Holdings Group Co., Ltd.  上海证券交易所   \n",
       "\n",
       "                   交易所英文名称     权重  \n",
       "0  Shanghai Stock Exchange  1.790  \n",
       "1  Shanghai Stock Exchange  3.130  \n",
       "2  Shanghai Stock Exchange  1.247  \n",
       "3  Shanghai Stock Exchange  5.970  \n",
       "4  Shanghai Stock Exchange  1.056  "
      ]
     },
     "execution_count": 4,
     "metadata": {},
     "output_type": "execute_result"
    }
   ],
   "source": [
    "index_stock_cons_weight_csindex_df.head()"
   ]
  },
  {
   "cell_type": "code",
   "execution_count": 5,
   "id": "6ecc40af-df8c-4ada-97cc-e6d3c6481884",
   "metadata": {},
   "outputs": [
    {
     "data": {
      "text/html": [
       "<div>\n",
       "<style scoped>\n",
       "    .dataframe tbody tr th:only-of-type {\n",
       "        vertical-align: middle;\n",
       "    }\n",
       "\n",
       "    .dataframe tbody tr th {\n",
       "        vertical-align: top;\n",
       "    }\n",
       "\n",
       "    .dataframe thead th {\n",
       "        text-align: right;\n",
       "    }\n",
       "</style>\n",
       "<table border=\"1\" class=\"dataframe\">\n",
       "  <thead>\n",
       "    <tr style=\"text-align: right;\">\n",
       "      <th></th>\n",
       "      <th>成分券代码</th>\n",
       "    </tr>\n",
       "  </thead>\n",
       "  <tbody>\n",
       "    <tr>\n",
       "      <th>0</th>\n",
       "      <td>600028</td>\n",
       "    </tr>\n",
       "    <tr>\n",
       "      <th>1</th>\n",
       "      <td>600030</td>\n",
       "    </tr>\n",
       "    <tr>\n",
       "      <th>2</th>\n",
       "      <td>600031</td>\n",
       "    </tr>\n",
       "    <tr>\n",
       "      <th>3</th>\n",
       "      <td>600036</td>\n",
       "    </tr>\n",
       "    <tr>\n",
       "      <th>4</th>\n",
       "      <td>600048</td>\n",
       "    </tr>\n",
       "  </tbody>\n",
       "</table>\n",
       "</div>"
      ],
      "text/plain": [
       "    成分券代码\n",
       "0  600028\n",
       "1  600030\n",
       "2  600031\n",
       "3  600036\n",
       "4  600048"
      ]
     },
     "execution_count": 5,
     "metadata": {},
     "output_type": "execute_result"
    }
   ],
   "source": [
    "index_stock_cons_weight_csindex_df[['成分券代码']].head()"
   ]
  },
  {
   "cell_type": "code",
   "execution_count": 6,
   "id": "fd57b599-4a93-44fc-a46e-509696231d9e",
   "metadata": {},
   "outputs": [],
   "source": [
    "code_to_name = dict(zip(\n",
    "    index_stock_cons_weight_csindex_df['成分券代码'],\n",
    "    index_stock_cons_weight_csindex_df['成分券名称'],\n",
    "))"
   ]
  },
  {
   "cell_type": "code",
   "execution_count": 8,
   "id": "ab444afb-9d82-4397-b91e-b38a0a59562b",
   "metadata": {},
   "outputs": [
    {
     "name": "stderr",
     "output_type": "stream",
     "text": [
      "100%|████████████████████████████████████████████████████████████████████████████████████████████████████| 50/50 [00:06<00:00,  7.62it/s]\n"
     ]
    }
   ],
   "source": [
    "data = []\n",
    "for code in tqdm(index_stock_cons_weight_csindex_df['成分券代码']):\n",
    "    row = ak.stock_zyjs_ths(symbol=code)\n",
    "    data.append(row)"
   ]
  },
  {
   "cell_type": "code",
   "execution_count": 9,
   "id": "b2d5e83e-cb4d-4536-ab2e-5d908db723f6",
   "metadata": {},
   "outputs": [],
   "source": [
    "documents = []\n",
    "for item in data:\n",
    "    doc = f'''股票代码：{item.iloc[0]['股票代码']}\n",
    "股票名称：{code_to_name[item.iloc[0]['股票代码']]}\n",
    "主营业务：{item.iloc[0]['主营业务']}\n",
    "产品类型：{item.iloc[0]['产品类型']}\n",
    "产品名称：{item.iloc[0]['产品名称']}\n",
    "'''\n",
    "    documents.append(doc)"
   ]
  },
  {
   "cell_type": "code",
   "execution_count": 12,
   "id": "4fac8ef8-8eab-429d-a38d-2e59d0dd9022",
   "metadata": {},
   "outputs": [],
   "source": [
    "with open('documents.json', 'w') as fp:\n",
    "    json.dump(documents, fp, indent=4, ensure_ascii=False)"
   ]
  },
  {
   "cell_type": "code",
   "execution_count": null,
   "id": "9b21e51c-096b-4511-8655-87736ce2b499",
   "metadata": {},
   "outputs": [],
   "source": []
  }
 ],
 "metadata": {
  "kernelspec": {
   "display_name": "Python 3 (ipykernel)",
   "language": "python",
   "name": "python3"
  },
  "language_info": {
   "codemirror_mode": {
    "name": "ipython",
    "version": 3
   },
   "file_extension": ".py",
   "mimetype": "text/x-python",
   "name": "python",
   "nbconvert_exporter": "python",
   "pygments_lexer": "ipython3",
   "version": "3.9.6"
  }
 },
 "nbformat": 4,
 "nbformat_minor": 5
}
